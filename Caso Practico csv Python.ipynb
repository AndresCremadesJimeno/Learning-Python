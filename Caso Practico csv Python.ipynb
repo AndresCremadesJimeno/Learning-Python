{
 "cells": [
  {
   "cell_type": "code",
   "execution_count": 1,
   "metadata": {},
   "outputs": [],
   "source": [
    "import os\n",
    "os.chdir(\"E:/Background/3_IMF-Big Data y Business Intelligence/Modulo 1 - Fundamento de tratamiento de datos/Tema 4 - Tratamiento ficheros Python\")"
   ]
  },
  {
   "cell_type": "markdown",
   "metadata": {},
   "source": [
    "Duda de la funcion escribe:\n",
    "Definimos una función con dos inputs(un diccionario map y un fichero CSV que se crea fileName), entiendo que el bucle lo que hace es coger todos los pares clave-valor del diccionario map y los incorpora al fichero CSV creado.\n",
    "Mi duda es cómo incorporamos el input del diccionario map cuando entiendo que sería el propio fichero del ejercicio \"PitchingPost.csv\" convertido a diccionario."
   ]
  },
  {
   "cell_type": "code",
   "execution_count": null,
   "metadata": {},
   "outputs": [],
   "source": [
    "#Ejemplo de codigo para convertir un csv a una lista. ¿Cómo se haría para convertirlo a diccionario?\n",
    "archivoEjemplo = open(\"PitchingPost.csv\")\n",
    "ejemploLector = csv.reader(archivoEjemplo,delimiter=\";\")\n",
    "#Una vez leido con csv lo conviertes a lista para tratarlo en Python\n",
    "ejemploListaDatos = list(ejemploLector)\n",
    "print(ejemploListaDatos)"
   ]
  },
  {
   "cell_type": "code",
   "execution_count": 48,
   "metadata": {},
   "outputs": [],
   "source": [
    "import csv\n",
    "#Funcion que escribe un diccionario en un fichero CSV con el nombre que recibe\n",
    "def escribe(map,fileName):\n",
    "    outFile=open(fileName,\"w\")\n",
    "    outWriter=csv.writer(outFile)\n",
    "    for key in map:\n",
    "        outWriter.writerow([key,map.get(key)]) #get devuelve el valor dentro del diccionario map correspondiente a la clave key\n",
    "    outFile.close()\n",
    "    print(\"Archivo\"+fileName+\"creado con exito.\")"
   ]
  },
  {
   "cell_type": "code",
   "execution_count": 41,
   "metadata": {},
   "outputs": [],
   "source": [
    "#Funcion que dada una columnna contabiliza las veces que aparece cada termino de esa columna en el archivo \"PitchingPost.csv\"\n",
    "def frecuencia(column,fileName):\n",
    "    error=False\n",
    "    map={}\n",
    "    try:\n",
    "        file=open(\"PitchingPost.csv\")\n",
    "    except IOError:\n",
    "        error=True\n",
    "        print(\"Error al intentar abrir el archivo \\\"PitchingPost.csv\\\".\")\n",
    "    if (error==False):\n",
    "        reader=csv.reader(file)\n",
    "        data=list(reader) #Tenenmos el fichero PitchingPost como una lista en Python\n",
    "        #¿Puedes explicarme este bucle? Entiendo que lo que busca es recorrer toda la lista en la columna que nos interesa\n",
    "        #para extraer la clave y si existe incorporar el valor correspondiente e irlo sumando al anterior\n",
    "        for i in range(column,len(data)):\n",
    "            key=str(data[i][column])\n",
    "            if map.has_key(key): #has_key() devuelve True si la clave introducida existe en el diccionario (en este caso en map)\n",
    "                map[key]=map[key]+1\n",
    "            else:\n",
    "                map[key]=1\n",
    "    file.close()\n",
    "    #Relacionado con la primera instancia de codigo, no entiendo los inputs que sean map (creía que tenía que ser el diccionario\n",
    "    #del fichero dado PitchingPost) y fileName que sería el fichero csv que vamos a crear.\n",
    "    escribe(map,fileName)"
   ]
  },
  {
   "cell_type": "code",
   "execution_count": 43,
   "metadata": {},
   "outputs": [],
   "source": [
    "#Lo mismo que antes quitando la parte de errores que considero que no es imprescindible. ¿Funcionaría?\n",
    "def frecuencia(column,fileName):\n",
    "    map={}\n",
    "    file=open(\"PitchingPost.csv\")\n",
    "    reader=csv.reader(file)\n",
    "    data=list(reader) #Tenenmos el fichero PitchingPost como una lista en Python\n",
    "    for i in range(column,len(data)):\n",
    "        key=str(data[i][column])\n",
    "        if map.has_key(key): #has_key() devuelve True si la clave introducida existe en el diccionario (en este caso en map)\n",
    "            map[key]=map[key]+1\n",
    "        else:\n",
    "            map[key]=1\n",
    "    file.close()\n",
    "    escribe(map,fileName)"
   ]
  },
  {
   "cell_type": "markdown",
   "metadata": {},
   "source": [
    "La funcion sort la he simplificado con respecto a la solución propuesta procurando dejar lo imprescindible.\n",
    "Para entender bien los bucles, interpreto que:\n",
    "for linea in reader incorpora a la lista que partimos de en blanco cada una de las lineas del fichero \"PitchingPost.csv\" para posteriormente ordenarlas. ¿lista.sort() cómo lo ordena de forma predeterminada?\n",
    "for row in lista incorpora cada fila en la lista ordenada en el fichero que hemos creado \"Ordenado.csv\""
   ]
  },
  {
   "cell_type": "code",
   "execution_count": 44,
   "metadata": {},
   "outputs": [],
   "source": [
    "#Funcion que guarda el contenido del archivo \"PitchingPost.csv\" en una lista para despues guardarla ordenada en \"Ordenado.csv\"\n",
    "\n",
    "def sort():\n",
    "    file=open(\"PitchingPost.csv\")\n",
    "    reader=csv.reader(file)\n",
    "    lista=[]\n",
    "    for linea in reader:\n",
    "        lista.append(linea)\n",
    "    file.close()\n",
    "    lista.sort()\n",
    "    outFile=open(\"Ordenado.csv\",\"w\")\n",
    "    outWriter=csv.writer(outFile)\n",
    "    for row in lista:\n",
    "        outWriter.writerow(row)\n",
    "    outFile.close()\n",
    "    print(\"Archivo \\\"PitchingPost\\\" ordenado con exito.\")"
   ]
  },
  {
   "cell_type": "code",
   "execution_count": 47,
   "metadata": {},
   "outputs": [
    {
     "ename": "AttributeError",
     "evalue": "'dict' object has no attribute 'has_key'",
     "output_type": "error",
     "traceback": [
      "\u001b[1;31m---------------------------------------------------------------------------\u001b[0m",
      "\u001b[1;31mAttributeError\u001b[0m                            Traceback (most recent call last)",
      "\u001b[1;32m<ipython-input-47-83c8e0a37881>\u001b[0m in \u001b[0;36m<module>\u001b[1;34m\u001b[0m\n\u001b[1;32m----> 1\u001b[1;33m \u001b[0mfrecuencia\u001b[0m\u001b[1;33m(\u001b[0m\u001b[1;36m1\u001b[0m\u001b[1;33m,\u001b[0m\u001b[1;34m\"AcumAnnos.csv\"\u001b[0m\u001b[1;33m)\u001b[0m\u001b[1;33m\u001b[0m\u001b[1;33m\u001b[0m\u001b[0m\n\u001b[0m\u001b[0;32m      2\u001b[0m \u001b[0mfrecuencia\u001b[0m\u001b[1;33m(\u001b[0m\u001b[1;36m0\u001b[0m\u001b[1;33m,\u001b[0m\u001b[1;34m\"AcumJugadores.csv\"\u001b[0m\u001b[1;33m)\u001b[0m\u001b[1;33m\u001b[0m\u001b[1;33m\u001b[0m\u001b[0m\n\u001b[0;32m      3\u001b[0m \u001b[0msort\u001b[0m\u001b[1;33m(\u001b[0m\u001b[1;33m)\u001b[0m\u001b[1;33m\u001b[0m\u001b[1;33m\u001b[0m\u001b[0m\n",
      "\u001b[1;32m<ipython-input-43-53a03426f760>\u001b[0m in \u001b[0;36mfrecuencia\u001b[1;34m(column, fileName)\u001b[0m\n\u001b[0;32m      7\u001b[0m     \u001b[1;32mfor\u001b[0m \u001b[0mi\u001b[0m \u001b[1;32min\u001b[0m \u001b[0mrange\u001b[0m\u001b[1;33m(\u001b[0m\u001b[0mcolumn\u001b[0m\u001b[1;33m,\u001b[0m\u001b[0mlen\u001b[0m\u001b[1;33m(\u001b[0m\u001b[0mdata\u001b[0m\u001b[1;33m)\u001b[0m\u001b[1;33m)\u001b[0m\u001b[1;33m:\u001b[0m\u001b[1;33m\u001b[0m\u001b[1;33m\u001b[0m\u001b[0m\n\u001b[0;32m      8\u001b[0m         \u001b[0mkey\u001b[0m\u001b[1;33m=\u001b[0m\u001b[0mstr\u001b[0m\u001b[1;33m(\u001b[0m\u001b[0mdata\u001b[0m\u001b[1;33m[\u001b[0m\u001b[0mi\u001b[0m\u001b[1;33m]\u001b[0m\u001b[1;33m[\u001b[0m\u001b[0mcolumn\u001b[0m\u001b[1;33m]\u001b[0m\u001b[1;33m)\u001b[0m\u001b[1;33m\u001b[0m\u001b[1;33m\u001b[0m\u001b[0m\n\u001b[1;32m----> 9\u001b[1;33m         \u001b[1;32mif\u001b[0m \u001b[0mmap\u001b[0m\u001b[1;33m.\u001b[0m\u001b[0mhas_key\u001b[0m\u001b[1;33m(\u001b[0m\u001b[0mkey\u001b[0m\u001b[1;33m)\u001b[0m\u001b[1;33m:\u001b[0m \u001b[1;31m#has_key() devuelve True si la clave introducida existe en el diccionario (en este caso en map)\u001b[0m\u001b[1;33m\u001b[0m\u001b[1;33m\u001b[0m\u001b[0m\n\u001b[0m\u001b[0;32m     10\u001b[0m             \u001b[0mmap\u001b[0m\u001b[1;33m[\u001b[0m\u001b[0mkey\u001b[0m\u001b[1;33m]\u001b[0m\u001b[1;33m=\u001b[0m\u001b[0mmap\u001b[0m\u001b[1;33m[\u001b[0m\u001b[0mkey\u001b[0m\u001b[1;33m]\u001b[0m\u001b[1;33m+\u001b[0m\u001b[1;36m1\u001b[0m\u001b[1;33m\u001b[0m\u001b[1;33m\u001b[0m\u001b[0m\n\u001b[0;32m     11\u001b[0m         \u001b[1;32melse\u001b[0m\u001b[1;33m:\u001b[0m\u001b[1;33m\u001b[0m\u001b[1;33m\u001b[0m\u001b[0m\n",
      "\u001b[1;31mAttributeError\u001b[0m: 'dict' object has no attribute 'has_key'"
     ]
    }
   ],
   "source": [
    "#Me arrojan error cuando intento aplicar las funciones programadas\n",
    "frecuencia(1,\"AcumAnnos.csv\")\n",
    "frecuencia(0,\"AcumJugadores.csv\")\n",
    "sort()"
   ]
  },
  {
   "cell_type": "code",
   "execution_count": null,
   "metadata": {},
   "outputs": [],
   "source": []
  }
 ],
 "metadata": {
  "kernelspec": {
   "display_name": "Python 3",
   "language": "python",
   "name": "python3"
  },
  "language_info": {
   "codemirror_mode": {
    "name": "ipython",
    "version": 3
   },
   "file_extension": ".py",
   "mimetype": "text/x-python",
   "name": "python",
   "nbconvert_exporter": "python",
   "pygments_lexer": "ipython3",
   "version": "3.7.3"
  }
 },
 "nbformat": 4,
 "nbformat_minor": 2
}
